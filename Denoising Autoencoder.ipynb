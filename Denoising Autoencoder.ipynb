{
 "metadata": {
  "language_info": {
   "codemirror_mode": {
    "name": "ipython",
    "version": 3
   },
   "file_extension": ".py",
   "mimetype": "text/x-python",
   "name": "python",
   "nbconvert_exporter": "python",
   "pygments_lexer": "ipython3",
   "version": "3.7.5-final"
  },
  "orig_nbformat": 2,
  "kernelspec": {
   "name": "python37564bitvenvvenv083447df96434dddb3a16cf6e1030035",
   "display_name": "Python 3.7.5 64-bit ('venv': venv)",
   "language": "python"
  }
 },
 "nbformat": 4,
 "nbformat_minor": 2,
 "cells": [
  {
   "cell_type": "code",
   "execution_count": 11,
   "metadata": {},
   "outputs": [],
   "source": [
    "from keras.datasets import mnist\n",
    "\n",
    "import numpy as np\n",
    "\n",
    "from denoising.methods.neural_network.denoising_autoencoder import DenoisingAutoencoder\n",
    "\n",
    "\n",
    "from images.visualization import show_images, show"
   ]
  },
  {
   "cell_type": "code",
   "execution_count": 12,
   "metadata": {},
   "outputs": [],
   "source": [
    "((y_train, _), (y_test, _)) = mnist.load_data()"
   ]
  },
  {
   "cell_type": "code",
   "execution_count": 13,
   "metadata": {},
   "outputs": [],
   "source": [
    "y_train = np.expand_dims(y_train, axis=-1)\n",
    "y_test = np.expand_dims(y_test, axis=-1)\n",
    "\n",
    "y_train = y_train.astype('float32') / 255.0\n",
    "y_test = y_test.astype('float32') / 255.0"
   ]
  },
  {
   "cell_type": "code",
   "execution_count": 14,
   "metadata": {},
   "outputs": [],
   "source": [
    "x_train = np.random.normal(loc=0.5, scale=0.5, size=y_train.shape) + y_train\n",
    "x_test = np.random.normal(loc=0.5, scale=0.5, size=y_test.shape) + y_test\n"
   ]
  },
  {
   "cell_type": "code",
   "execution_count": 18,
   "metadata": {},
   "outputs": [
    {
     "output_type": "display_data",
     "data": {
      "text/plain": "<Figure size 864x576 with 2 Axes>",
      "image/svg+xml": "<?xml version=\"1.0\" encoding=\"utf-8\" standalone=\"no\"?>\n<!DOCTYPE svg PUBLIC \"-//W3C//DTD SVG 1.1//EN\"\n  \"http://www.w3.org/Graphics/SVG/1.1/DTD/svg11.dtd\">\n<!-- Created with matplotlib (https://matplotlib.org/) -->\n<svg height=\"318.763636pt\" version=\"1.1\" viewBox=\"0 0 684 318.763636\" width=\"684pt\" xmlns=\"http://www.w3.org/2000/svg\" xmlns:xlink=\"http://www.w3.org/1999/xlink\">\n <defs>\n  <style type=\"text/css\">\n*{stroke-linecap:butt;stroke-linejoin:round;}\n  </style>\n </defs>\n <g id=\"figure_1\">\n  <g id=\"patch_1\">\n   <path d=\"M 0 318.763636 \nL 684 318.763636 \nL 684 0 \nL 0 0 \nz\n\" style=\"fill:none;\"/>\n  </g>\n  <g id=\"axes_1\">\n   <g clip-path=\"url(#p23e00575ba)\">\n    <image height=\"305\" id=\"image07f1245f8d\" transform=\"scale(1 -1)translate(0 -305)\" width=\"305\" x=\"7.2\" xlink:href=\"data:image/png;base64,\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\" y=\"-6.563636\"/>\n   </g>\n  </g>\n  <g id=\"axes_2\">\n   <g clip-path=\"url(#p962a4c3176)\">\n    <image height=\"305\" id=\"image9768c78511\" transform=\"scale(1 -1)translate(0 -305)\" width=\"305\" x=\"372.436364\" xlink:href=\"data:image/png;base64,\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\" y=\"-6.563636\"/>\n   </g>\n  </g>\n </g>\n <defs>\n  <clipPath id=\"p23e00575ba\">\n   <rect height=\"304.363636\" width=\"304.363636\" x=\"7.2\" y=\"7.2\"/>\n  </clipPath>\n  <clipPath id=\"p962a4c3176\">\n   <rect height=\"304.363636\" width=\"304.363636\" x=\"372.436364\" y=\"7.2\"/>\n  </clipPath>\n </defs>\n</svg>\n",
      "image/png": "[encoded data removed]"
     },
     "metadata": {
      "needs_background": "light"
     }
    }
   ],
   "source": [
    "show_images(y_train[0], x_train[0])"
   ]
  },
  {
   "cell_type": "code",
   "execution_count": 19,
   "metadata": {},
   "outputs": [],
   "source": [
    "denoising_autoencoder = DenoisingAutoencoder(image_dimension=(28,28))"
   ]
  },
  {
   "cell_type": "code",
   "execution_count": 20,
   "metadata": {},
   "outputs": [],
   "source": [
    "denoising_autoencoder.compile(optimizer='adam', loss='mse', learning_rate=1e-3)"
   ]
  },
  {
   "cell_type": "code",
   "execution_count": 21,
   "metadata": {},
   "outputs": [
    {
     "output_type": "stream",
     "name": "stdout",
     "text": [
      "Model: \"autoencoder\"\n_________________________________________________________________\nLayer (type)                 Output Shape              Param #   \n=================================================================\ninput_3 (InputLayer)         [(None, 28, 28, 1)]       0         \n_________________________________________________________________\nencoder (Functional)         (None, 16)                69392     \n_________________________________________________________________\ndecoder (Functional)         (None, 28, 28, 1)         109377    \n=================================================================\nTotal params: 178,769\nTrainable params: 178,385\nNon-trainable params: 384\n_________________________________________________________________\n"
     ]
    }
   ],
   "source": [
    "denoising_autoencoder.summary()"
   ]
  },
  {
   "cell_type": "code",
   "execution_count": 22,
   "metadata": {},
   "outputs": [
    {
     "output_type": "stream",
     "name": "stdout",
     "text": [
      "Epoch 1/25\n",
      "1688/1688 [==============================] - 99s 58ms/step - loss: 0.0491 - val_loss: 0.0226\n",
      "Epoch 2/25\n",
      "1688/1688 [==============================] - 101s 60ms/step - loss: 0.0196 - val_loss: 0.0192\n",
      "Epoch 3/25\n",
      "1688/1688 [==============================] - 109s 64ms/step - loss: 0.0180 - val_loss: 0.0185\n",
      "Epoch 4/25\n",
      "1688/1688 [==============================] - 103s 61ms/step - loss: 0.0172 - val_loss: 0.0178\n",
      "Epoch 5/25\n",
      "1688/1688 [==============================] - 104s 62ms/step - loss: 0.0166 - val_loss: 0.0174\n",
      "Epoch 6/25\n",
      "1688/1688 [==============================] - 107s 64ms/step - loss: 0.0161 - val_loss: 0.0170\n",
      "Epoch 7/25\n",
      "1688/1688 [==============================] - 95s 56ms/step - loss: 0.0157 - val_loss: 0.0169\n",
      "Epoch 8/25\n",
      "1688/1688 [==============================] - 96s 57ms/step - loss: 0.0153 - val_loss: 0.0167\n",
      "Epoch 9/25\n",
      "1688/1688 [==============================] - 97s 57ms/step - loss: 0.0150 - val_loss: 0.0165\n",
      "Epoch 10/25\n",
      "1688/1688 [==============================] - 98s 58ms/step - loss: 0.0148 - val_loss: 0.0164\n",
      "Epoch 11/25\n",
      "1688/1688 [==============================] - 91s 54ms/step - loss: 0.0145 - val_loss: 0.0164\n",
      "Epoch 12/25\n",
      "1688/1688 [==============================] - 83s 49ms/step - loss: 0.0144 - val_loss: 0.0163\n",
      "Epoch 13/25\n",
      "1688/1688 [==============================] - 85s 50ms/step - loss: 0.0142 - val_loss: 0.0165\n",
      "Epoch 14/25\n",
      "1688/1688 [==============================] - 86s 51ms/step - loss: 0.0140 - val_loss: 0.0163\n",
      "Epoch 15/25\n",
      "1688/1688 [==============================] - 92s 54ms/step - loss: 0.0139 - val_loss: 0.0160\n",
      "Epoch 16/25\n",
      "1688/1688 [==============================] - 95s 56ms/step - loss: 0.0138 - val_loss: 0.0160\n",
      "Epoch 17/25\n",
      "1688/1688 [==============================] - 101s 60ms/step - loss: 0.0137 - val_loss: 0.0161\n",
      "Epoch 18/25\n",
      "1688/1688 [==============================] - 103s 61ms/step - loss: 0.0136 - val_loss: 0.0161\n",
      "Epoch 19/25\n",
      "1688/1688 [==============================] - 103s 61ms/step - loss: 0.0135 - val_loss: 0.0161\n",
      "Epoch 20/25\n",
      "1688/1688 [==============================] - 94s 56ms/step - loss: 0.0134 - val_loss: 0.0159\n",
      "Epoch 21/25\n",
      "1688/1688 [==============================] - 92s 55ms/step - loss: 0.0133 - val_loss: 0.0158\n",
      "Epoch 22/25\n",
      "1688/1688 [==============================] - 87s 52ms/step - loss: 0.0133 - val_loss: 0.0158\n",
      "Epoch 23/25\n",
      "1688/1688 [==============================] - 88s 52ms/step - loss: 0.0132 - val_loss: 0.0157\n",
      "Epoch 24/25\n",
      "1688/1688 [==============================] - 83s 49ms/step - loss: 0.0131 - val_loss: 0.0156\n",
      "Epoch 25/25\n",
      "1688/1688 [==============================] - 85s 51ms/step - loss: 0.0131 - val_loss: 0.0156\n"
     ]
    }
   ],
   "source": [
    "denoising_autoencoder.fit(\n",
    "    x_train,\n",
    "    y_train,\n",
    "    epochs=25,\n",
    "    batch_size=32,\n",
    "    extract_validation_dataset=True\n",
    ")"
   ]
  },
  {
   "cell_type": "code",
   "execution_count": 23,
   "metadata": {},
   "outputs": [
    {
     "output_type": "stream",
     "name": "stdout",
     "text": [
      "313/313 - 5s\n"
     ]
    }
   ],
   "source": [
    "pred = denoising_autoencoder.test(x_test)"
   ]
  },
  {
   "cell_type": "code",
   "execution_count": 24,
   "metadata": {},
   "outputs": [
    {
     "output_type": "display_data",
     "data": {
      "text/plain": "<Figure size 864x576 with 3 Axes>",
      "image/svg+xml": "<?xml version=\"1.0\" encoding=\"utf-8\" standalone=\"no\"?>\n<!DOCTYPE svg PUBLIC \"-//W3C//DTD SVG 1.1//EN\"\n  \"http://www.w3.org/Graphics/SVG/1.1/DTD/svg11.dtd\">\n<!-- Created with matplotlib (https://matplotlib.org/) -->\n<svg height=\"211.341176pt\" version=\"1.1\" viewBox=\"0 0 684 211.341176\" width=\"684pt\" xmlns=\"http://www.w3.org/2000/svg\" xmlns:xlink=\"http://www.w3.org/1999/xlink\">\n <defs>\n  <style type=\"text/css\">\n*{stroke-linecap:butt;stroke-linejoin:round;}\n  </style>\n </defs>\n <g id=\"figure_1\">\n  <g id=\"patch_1\">\n   <path d=\"M 0 211.341176 \nL 684 211.341176 \nL 684 0 \nL 0 0 \nz\n\" style=\"fill:none;\"/>\n  </g>\n  <g id=\"axes_1\">\n   <g clip-path=\"url(#pd53b8c2d0e)\">\n    <image height=\"197\" id=\"image8da1168e93\" transform=\"scale(1 -1)translate(0 -197)\" width=\"197\" x=\"7.2\" xlink:href=\"data:image/png;base64,\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\" y=\"-7.141176\"/>\n   </g>\n  </g>\n  <g id=\"axes_2\">\n   <g clip-path=\"url(#p50a91facff)\">\n    <image height=\"197\" id=\"imagef0d8e42430\" transform=\"scale(1 -1)translate(0 -197)\" width=\"197\" x=\"243.529412\" xlink:href=\"data:image/png;base64,\niVBORw0KGgoAAAANSUhEUgAAAMUAAADFCAYAAADkODbwAAAABHNCSVQICAgIfAhkiAAABwFJREFUeJzt3b9LlX0cxvHv7bn9wclfVOBSkJFkREOOkRjiJk3VUhAN/QXSpINjQ0GLgaNbS0NERDS1tBYKDekgEfSLlCRNzV/Pfj3P9RFv9DznHN+v9eLc3rfHiy98/J7vybIs20nGzo6NakaWZYWypqYmmx09etRmx48ft9mnT59strKyYrOUUtra2rJZrbxP0e87eoairyuqYd+vCNQ4SgEISgEISgEISgEISgGI/P++gYNWdNTX2tpqs/HxcZsNDg7abGZmxmZjY2M2Syml+fl5m62vr4evrXWVHjmzUgCCUgCCUgCCUgCCUgCCUgCi7keyDQ2+99FItlwu2+zixYs2O3XqlM2i3bX9/f02Symlb9++2WxjY8Nm29vb4XUrqdK7XYtipQAEpQAEpQAEpQAEpQAEpQBEHo0so3FeNY3QIkXv8/fv3zb7+PGjzfr6+mzW3t5us+Hh4fB+Xr58abOlpaXwtdWimsbDEVYKQFAKQFAKQFAKQFAKQFAKQOT1MHaNRM8QZdFIdnJy0mZDQ0M26+rqstnly5dtllJKvb29Nvv+/bvNNjc3w+vi31gpAEEpAEEpAEEpAEEpAEEpAJHXw9j1IESjzHfv3tnszZs3Nrtx44bNOjs7w/uJdtG+ffvWZoxk946VAhCUAhCUAhCUAhCUAhCUAhBZSomZ7B5FZ6IODAzY7OnTpzY7duxY+DMXFhZsFu2wjQ5ZYBz/31gpAEEpAEEpAEEpAEEpAEEpAJFlWbbvc7nDPOrr6Oiw2aNHj2x2+/bt8LrRmb+PHz+22cjIiM2irwU7zFgpAEEpAEEpAEEpAEEpAEEpAJHleW7np0W/jqlWvsbpIJRKJZudPXvWZs+ePQuv29PTY7PFxUWbXbp0yWazs7M2O8xjdVYKQFAKQFAKQFAKQFAKQFAKQGQNDQ37Pns7zCPZ6FCD5uZmm927dy+87vj4uM2iMfCTJ09sdvfuXZutrq6G91PPWCkAQSkAQSkAQSkAQSkAQSkAUfjgguiD9NFItt53X0Yj2TzPbRbtgk0ppRcvXtisu7vbZsvLyza7fv26zV6/fm2zen8PWSkAQSkAQSkAQSkAQSkAQSkAUXiXbDR6jEZ2RbN6EI2xW1pawtdGO1rv379vs3K5bLO5uTmb9fX12Swa89YDVgpAUApAUApAUApAUApAUApAZCmlfR/JRup97FpUNK5NKaW2tjabPXjwwGbRKDfy8OFDm42Ojtpsc3Oz0M+rJqwUgKAUgKAUgKAUgKAUgKAUgGAkWyOike3Jkydt9urVK5v19vba7OfPnzYbGhqy2czMjM2q6b2P/n5ZKQBBKQBBKQBBKQBBKQBBKQBBKQBR+P8UqB6NjY02Gx4ettnU1JTNWltbbfb8+XOb3bx502Zra2s2qzT+TwHsAaUABKUABKUABKUABKUARHjAcvTddagNTU1NNpuYmLDZnTt3bPbnzx+bXblyxWbT09M2q/S2ckaywB5QCkBQCkBQCkBQCkBQCkDkUciJHbUvOvA42iV77do1m7W3t9vs1q1bNvvw4YPNNjY2bHYQor9RVgpAUApAUApAUApAUApAUApA5Lt915pTKpVsFo0Bw1FYcC9RFn1wP8/91Dl63ZEjR2wWfQB/a2vLZpHdxtjRc0Q7YaPfW39/f6GfF93r6dOnbRbdZ6VHshFWCkBQCkBQCkBQCkBQCkBQCkCEu2SjsWtLS4u/aDDOK5fLNjt37pzNLly4YLMzZ87YrKury2bnz5+3WWdnp82i54s+1B+NeXc7JCJ6L4pm0XNEO6Sj8emPHz9sVnRcXVTRXd6sFICgFICgFICgFICgFICgFIDIC4+tgt2XJ06csNng4KDNrl69arNo7BqNOqP7jMbD0U7f6JrRqDp63W67RP/+/RvmTrQTOLrmly9fbPb+/XubTU5O2mx9fd1mByHazctZssAeUApAUApAUApAUApAUApA5NHuzChbXl622devX222uLhos6WlpULXXFlZsVl0yEA0sotGktEH8KNdonNzczb7/PmzzXa7bvQc0XsY7aCNfqcLCws2+/Xrl82q6YxhzpIF9oBSAIJSAIJSAIJSAIJSACIrlUp2NhWN86JdhlHW3Nxss2i3a/S6aOy6urpqs6Lj6Oj5ot210Qf3q2lcedixUgCCUgCCUgCCUgCCUgCCUgAiSylVdBZY9KAERpaoFFYKQFAKQFAKQFAKQFAKQFAKQGRZltlZJ2NQHEasFICgFICgFICgFICgFICgFICo+C5ZoNqxUgCCUgCCUgCCUgCCUgCCUgCCUgCCUgCCUgCCUgCCUgCCUgCCUgCCUgCCUgCCUgCCUgCCUgCCUgCCUgAij75ui7NkUa+iv3tWCkBQCkBQCkBQCkBQCkBQCkD8A8gSyfsbwSKMAAAAAElFTkSuQmCC\" y=\"-7.141176\"/>\n   </g>\n  </g>\n  <g id=\"axes_3\">\n   <g clip-path=\"url(#pf0f46143bc)\">\n    <image height=\"197\" id=\"imagef0198265ed\" transform=\"scale(1 -1)translate(0 -197)\" width=\"197\" x=\"479.858824\" xlink:href=\"data:image/png;base64,\niVBORw0KGgoAAAANSUhEUgAAAMUAAADFCAYAAADkODbwAAAABHNCSVQICAgIfAhkiAAABNBJREFUeJzt3T1r1FkYxuFxo4WQJhFsREkICCL4ipWgxjSiiIVWprbyE1goWtjYWgj2ggiCYGOVwoSgYooQRRG1UUQIhICKgoLbLey9+/x3dhKTmXhd7c3E0/w4cBzNular9bMF/OWP1T4AdBtRQBAFBFFAEAUEUUBYv9oH6FYXLlwot6tXr5bb7OxsuY2NjZXbwsJCewfjl3NTQBAFBFFAEAUEUUAQBQRPssts9+7d5fb48eNyO3nyZOPPffnyZcdn4v9xU0AQBQRRQBAFBFFAEAUET7KFycnJcvv8+XO59ff3l9vIyEhHn2NluSkgiAKCKCCIAoIoIIgCgifZwtTUVLldv3693Jr+wwN6g5sCgiggiAKCKCCIAoIoIHiS7cDNmzfLbXx8vNy2bdtWbocPH278M2dmZsrt50+/oW05uSkgiAKCKCCIAoIoIIgCwrpWq+U9bxlt37693Jby/8GeOnWq3O7fv9/xz+Wf3BQQRAFBFBBEAUEUEEQBwZPsMuvr6yu3R48eldv+/fsbf+6bN2/K7dixYx19jn/npoAgCgiigCAKCKKAIAoInmRX0KZNm8rtyZMnjZ8dHh4ut9u3b5fb2bNn//tg/I2bAoIoIIgCgiggiAKCKCB4ku0SJ06caNzv3btXbl++fCm3pm/QNn1r93fmpoAgCgiigCAKCKKAIAoInmR7xKVLl8rt8uXL5fbgwYNyO378+FKOtGa5KSCIAoIoIIgCgiggiAKCJ9kesXHjxnKbmpoqt507d5bb0aNHy216erq9g61BbgoIooAgCgiigCAKCKKAsH61D0B7vn79Wm5N34Tdu3dvuV25cqXcmr5B+/3793JbC9wUEEQBQRQQRAFBFBBEAcG3ZNeAgwcPltvExES5bdiwodyOHDlSbg8fPmzrXL3KTQFBFBBEAUEUEEQBQRQQRAHB31OscU1fD7948WK5LS4ultuhQ4fK7dmzZ+0drIu5KSCIAoIoIIgCgiggiAKCJ9k1bvPmzeU2NzfX0efOnDlTbnfv3m3vYF3MTQFBFBBEAUEUEEQBQRQQPMn+xk6fPl1ud+7cKbemb8KOjo6W28LCQnsHW2VuCgiigCAKCKKAIAoIooDgSbYDAwMD5bZnz55ym5mZKbcDBw4s6UyVb9++ldurV6/K7cWLF+U2ODhYbufPny+3GzdulFs3cVNAEAUEUUAQBQRRQBAFhPWrfYB2jY2NlduuXbvKrelpcceOHeW2b9++cmv6fXBbtmwpt3fv3pXb1q1by20pfvz4UW7z8/Pl1vTs2mRkZKSjz3UTNwUEUUAQBQRRQBAFBFFA6Jlvyb59+7bchoaGVu4grVbr06dP5fb8+fMVPMnqeP/+fbldu3at3J4+fforjrPs3BQQRAFBFBBEAUEUEEQBoWeeZJt+pdS5c+fK7cOHD+XW9I/6b926VW4fP34st9evX5cbvcFNAUEUEEQBQRQQRAFBFBB65kkWVoqbAoIoIIgCgiggiAKCKCCIAoIoIIgCgiggiAKCKCCIAoIoIIgCgiggiAKCKCCIAoIoIIgCgiggiAKCKCCIAoIoIIgCgiggiAKCKCCIAoIoIIgCgiggiAKCKCCIAoIoIIgCgiggiAKCKCCIAoIoIIgCgiggiAKCKCD8CX7Fw7Kcn3Q9AAAAAElFTkSuQmCC\" y=\"-7.141176\"/>\n   </g>\n  </g>\n </g>\n <defs>\n  <clipPath id=\"pd53b8c2d0e\">\n   <rect height=\"196.941176\" width=\"196.941176\" x=\"7.2\" y=\"7.2\"/>\n  </clipPath>\n  <clipPath id=\"p50a91facff\">\n   <rect height=\"196.941176\" width=\"196.941176\" x=\"243.529412\" y=\"7.2\"/>\n  </clipPath>\n  <clipPath id=\"pf0f46143bc\">\n   <rect height=\"196.941176\" width=\"196.941176\" x=\"479.858824\" y=\"7.2\"/>\n  </clipPath>\n </defs>\n</svg>\n",
      "image/png": "[encoded data removed]"
     },
     "metadata": {
      "needs_background": "light"
     }
    }
   ],
   "source": [
    "show_images(x_test[0], pred[0], y_test[0])"
   ]
  },
  {
   "cell_type": "code",
   "execution_count": 25,
   "metadata": {},
   "outputs": [
    {
     "output_type": "display_data",
     "data": {
      "text/plain": "<Figure size 864x576 with 3 Axes>",
      "image/svg+xml": "<?xml version=\"1.0\" encoding=\"utf-8\" standalone=\"no\"?>\n<!DOCTYPE svg PUBLIC \"-//W3C//DTD SVG 1.1//EN\"\n  \"http://www.w3.org/Graphics/SVG/1.1/DTD/svg11.dtd\">\n<!-- Created with matplotlib (https://matplotlib.org/) -->\n<svg height=\"211.341176pt\" version=\"1.1\" viewBox=\"0 0 684 211.341176\" width=\"684pt\" xmlns=\"http://www.w3.org/2000/svg\" xmlns:xlink=\"http://www.w3.org/1999/xlink\">\n <defs>\n  <style type=\"text/css\">\n*{stroke-linecap:butt;stroke-linejoin:round;}\n  </style>\n </defs>\n <g id=\"figure_1\">\n  <g id=\"patch_1\">\n   <path d=\"M 0 211.341176 \nL 684 211.341176 \nL 684 0 \nL 0 0 \nz\n\" style=\"fill:none;\"/>\n  </g>\n  <g id=\"axes_1\">\n   <g clip-path=\"url(#pa755151a43)\">\n    <image height=\"197\" id=\"image1a62be7929\" transform=\"scale(1 -1)translate(0 -197)\" width=\"197\" x=\"7.2\" xlink:href=\"data:image/png;base64,\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\" y=\"-7.141176\"/>\n   </g>\n  </g>\n  <g id=\"axes_2\">\n   <g clip-path=\"url(#pd9bb2120de)\">\n    <image height=\"197\" id=\"image79df5eb764\" transform=\"scale(1 -1)translate(0 -197)\" width=\"197\" x=\"243.529412\" xlink:href=\"data:image/png;base64,\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\" y=\"-7.141176\"/>\n   </g>\n  </g>\n  <g id=\"axes_3\">\n   <g clip-path=\"url(#pabfb6395ca)\">\n    <image height=\"197\" id=\"imagec9916d8be0\" transform=\"scale(1 -1)translate(0 -197)\" width=\"197\" x=\"479.858824\" xlink:href=\"data:image/png;base64,\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\" y=\"-7.141176\"/>\n   </g>\n  </g>\n </g>\n <defs>\n  <clipPath id=\"pa755151a43\">\n   <rect height=\"196.941176\" width=\"196.941176\" x=\"7.2\" y=\"7.2\"/>\n  </clipPath>\n  <clipPath id=\"pd9bb2120de\">\n   <rect height=\"196.941176\" width=\"196.941176\" x=\"243.529412\" y=\"7.2\"/>\n  </clipPath>\n  <clipPath id=\"pabfb6395ca\">\n   <rect height=\"196.941176\" width=\"196.941176\" x=\"479.858824\" y=\"7.2\"/>\n  </clipPath>\n </defs>\n</svg>\n",
      "image/png": "[encoded data removed]"
     },
     "metadata": {
      "needs_background": "light"
     }
    }
   ],
   "source": [
    "show_images(x_test[100], pred[100], y_test[100])"
   ]
  },
  {
   "cell_type": "code",
   "execution_count": 30,
   "metadata": {},
   "outputs": [],
   "source": [
    "from denoising.metrics import psnr, ssim\n",
    "from denoising.utils import normalize"
   ]
  },
  {
   "cell_type": "code",
   "execution_count": 35,
   "metadata": {},
   "outputs": [
    {
     "output_type": "execute_result",
     "data": {
      "text/plain": [
       "7.404938072806173"
      ]
     },
     "metadata": {},
     "execution_count": 35
    }
   ],
   "source": [
    "psnr(normalize(y_test, data_type='int'), normalize(x_test, data_type='int')).mean()"
   ]
  },
  {
   "cell_type": "code",
   "execution_count": 33,
   "metadata": {},
   "outputs": [
    {
     "output_type": "execute_result",
     "data": {
      "text/plain": [
       "18.547570799131027"
      ]
     },
     "metadata": {},
     "execution_count": 33
    }
   ],
   "source": [
    "psnr(normalize(y_test, data_type='int'), normalize(pred, data_type='int')).mean()"
   ]
  },
  {
   "cell_type": "code",
   "execution_count": 36,
   "metadata": {},
   "outputs": [
    {
     "output_type": "execute_result",
     "data": {
      "text/plain": [
       "0.16877120151097957"
      ]
     },
     "metadata": {},
     "execution_count": 36
    }
   ],
   "source": [
    "ssim(normalize(y_test, data_type='int'), normalize(x_test, data_type='int')).mean()"
   ]
  },
  {
   "cell_type": "code",
   "execution_count": 37,
   "metadata": {},
   "outputs": [
    {
     "output_type": "execute_result",
     "data": {
      "text/plain": [
       "0.8166245110150151"
      ]
     },
     "metadata": {},
     "execution_count": 37
    }
   ],
   "source": [
    "ssim(normalize(y_test, data_type='int'), normalize(pred, data_type='int')).mean()"
   ]
  },
  {
   "cell_type": "code",
   "execution_count": 38,
   "metadata": {},
   "outputs": [],
   "source": [
    "from skimage.metrics import peak_signal_noise_ratio, structural_similarity"
   ]
  },
  {
   "cell_type": "code",
   "execution_count": 45,
   "metadata": {},
   "outputs": [
    {
     "output_type": "execute_result",
     "data": {
      "text/plain": [
       "18.016725659113284"
      ]
     },
     "metadata": {},
     "execution_count": 45
    }
   ],
   "source": [
    "peak_signal_noise_ratio(y_test[:,:,:,0], pred[:,:,:,0])"
   ]
  },
  {
   "cell_type": "code",
   "execution_count": 49,
   "metadata": {},
   "outputs": [
    {
     "output_type": "execute_result",
     "data": {
      "text/plain": [
       "18.030940370310894"
      ]
     },
     "metadata": {},
     "execution_count": 49
    }
   ],
   "source": [
    "peak_signal_noise_ratio(\n",
    "    normalize(y_test[:,:,:,0], data_type='int'), \n",
    "    normalize(pred[:,:,:,0], data_type='int'),\n",
    "    data_range=255\n",
    ")"
   ]
  },
  {
   "cell_type": "code",
   "execution_count": 50,
   "metadata": {},
   "outputs": [
    {
     "output_type": "execute_result",
     "data": {
      "text/plain": [
       "7.4033146106850545"
      ]
     },
     "metadata": {},
     "execution_count": 50
    }
   ],
   "source": [
    "peak_signal_noise_ratio(\n",
    "    normalize(y_test[:,:,:,0], data_type='int'), \n",
    "    normalize(x_test[:,:,:,0], data_type='int'),\n",
    "    data_range=255\n",
    ")"
   ]
  },
  {
   "cell_type": "code",
   "execution_count": 44,
   "metadata": {},
   "outputs": [
    {
     "output_type": "execute_result",
     "data": {
      "text/plain": [
       "0.23993622164092235"
      ]
     },
     "metadata": {},
     "execution_count": 44
    }
   ],
   "source": [
    "structural_similarity(y_test[:,:,:,0], x_test[:,:,:,0])"
   ]
  },
  {
   "cell_type": "code",
   "execution_count": 53,
   "metadata": {},
   "outputs": [
    {
     "output_type": "execute_result",
     "data": {
      "text/plain": [
       "0.18953620306315852"
      ]
     },
     "metadata": {},
     "execution_count": 53
    }
   ],
   "source": [
    "structural_similarity(\n",
    "    normalize(y_test[:,:,:,0], data_type='int'), \n",
    "    normalize(x_test[:,:,:,0], data_type='int'),\n",
    "    data_range=255\n",
    "    )"
   ]
  },
  {
   "cell_type": "code",
   "execution_count": 46,
   "metadata": {},
   "outputs": [
    {
     "output_type": "execute_result",
     "data": {
      "text/plain": [
       "0.8680306497143553"
      ]
     },
     "metadata": {},
     "execution_count": 46
    }
   ],
   "source": [
    "structural_similarity(y_test[:,:,:,0], pred[:,:,:,0])"
   ]
  },
  {
   "cell_type": "code",
   "execution_count": 54,
   "metadata": {},
   "outputs": [
    {
     "output_type": "execute_result",
     "data": {
      "text/plain": [
       "0.8568314831253703"
      ]
     },
     "metadata": {},
     "execution_count": 54
    }
   ],
   "source": [
    "structural_similarity(\n",
    "    normalize(y_test[:,:,:,0], data_type='int'), \n",
    "    normalize(pred[:,:,:,0], data_type='int'),\n",
    "    data_range=255\n",
    "    )"
   ]
  },
  {
   "cell_type": "code",
   "execution_count": null,
   "metadata": {},
   "outputs": [],
   "source": []
  }
 ]
}